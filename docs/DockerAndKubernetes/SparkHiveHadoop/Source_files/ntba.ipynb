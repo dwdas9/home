{
 "cells": [
  {
   "cell_type": "code",
   "execution_count": 6,
   "metadata": {},
   "outputs": [],
   "source": [
    "from pyspark.sql import SparkSession\n",
    "from delta import configure_spark_with_delta_pip\n",
    "\n",
    "# Build the Spark session with Delta Lake support\n",
    "builder = SparkSession.builder.appName(\"DeltaTutorial\") \\\n",
    "    .config(\"spark.sql.extensions\", \"io.delta.sql.DeltaSparkSessionExtension\") \\\n",
    "    .config(\"spark.sql.catalog.spark_catalog\", \"org.apache.spark.sql.delta.catalog.DeltaCatalog\") \\\n",
    "    .config(\"spark.jars.packages\", \"io.delta:delta-core_2.12:2.3.0\")\n",
    "\n",
    "# Configure Spark with Delta Lake\n",
    "spark = configure_spark_with_delta_pip(builder).getOrCreate()\n",
    "spark.sparkContext.setLogLevel(\"ERROR\")\n",
    "\n",
    "data = [(1, \"foo\"), (2, \"bar\")]\n",
    "df = spark.createDataFrame(data, [\"id\", \"value\"])\n",
    "\n",
    "# Save as a Delta table\n",
    "df.write.format(\"delta\").mode(\"overwrite\").save(\"/tmp/delta-table\")\n",
    "\n",
    "# Read the Delta table\n",
    "df_read = spark.read.format(\"delta\").load(\"/tmp/delta-table\")\n",
    "df_read.show()\n",
    "\n"
   ]
  },
  {
   "cell_type": "code",
   "execution_count": 8,
   "metadata": {},
   "outputs": [],
   "source": [
    "features_df = spark.read.csv(\"/home/dwdas/keglrtlprj/source_raw/Features data set.csv\", header=True, inferSchema=True)\n",
    "features_df.write.format(\"delta\").mode(\"overwrite\").save(\"hdfs://namenode:8020/user/hive/warehouse/retail0A/bronze/features\")"
   ]
  },
  {
   "cell_type": "code",
   "execution_count": 10,
   "metadata": {},
   "outputs": [
    {
     "name": "stderr",
     "output_type": "stream",
     "text": [
      "                                                                                \r"
     ]
    }
   ],
   "source": [
    "sales_df = spark.read.csv(\"/home/dwdas/keglrtlprj/source_raw/sales data-set.csv\", header=True, inferSchema=True)\n",
    "sales_df.write.format(\"delta\").mode(\"overwrite\").save(\"hdfs://namenode:8020/user/hive/warehouse/retail0A/bronze/sales\")"
   ]
  },
  {
   "cell_type": "code",
   "execution_count": 11,
   "metadata": {},
   "outputs": [],
   "source": [
    "stores_df = spark.read.csv(\"/home/dwdas/keglrtlprj/source_raw/stores data-set.csv\", header=True, inferSchema=True)\n",
    "stores_df.write.format(\"delta\").mode(\"overwrite\").save(\"hdfs://namenode:8020/user/hive/warehouse/retail0A/bronze/stores\")"
   ]
  },
  {
   "cell_type": "code",
   "execution_count": 13,
   "metadata": {},
   "outputs": [
    {
     "name": "stdout",
     "output_type": "stream",
     "text": [
      "+-----+----------+-----------+----------+---------+---------+---------+---------+---------+-----------+------------+---------+\n",
      "|Store|      Date|Temperature|Fuel_Price|MarkDown1|MarkDown2|MarkDown3|MarkDown4|MarkDown5|        CPI|Unemployment|IsHoliday|\n",
      "+-----+----------+-----------+----------+---------+---------+---------+---------+---------+-----------+------------+---------+\n",
      "|    1|05/02/2010|      42.31|     2.572|       NA|       NA|       NA|       NA|       NA|211.0963582|       8.106|    false|\n",
      "|    1|12/02/2010|      38.51|     2.548|       NA|       NA|       NA|       NA|       NA|211.2421698|       8.106|     true|\n",
      "|    1|19/02/2010|      39.93|     2.514|       NA|       NA|       NA|       NA|       NA|211.2891429|       8.106|    false|\n",
      "|    1|26/02/2010|      46.63|     2.561|       NA|       NA|       NA|       NA|       NA|211.3196429|       8.106|    false|\n",
      "|    1|05/03/2010|       46.5|     2.625|       NA|       NA|       NA|       NA|       NA|211.3501429|       8.106|    false|\n",
      "+-----+----------+-----------+----------+---------+---------+---------+---------+---------+-----------+------------+---------+\n",
      "\n",
      "+-----+----+----------+------------+---------+\n",
      "|Store|Dept|      Date|Weekly_Sales|IsHoliday|\n",
      "+-----+----+----------+------------+---------+\n",
      "|    1|   1|05/02/2010|     24924.5|    false|\n",
      "|    1|   1|12/02/2010|    46039.49|     true|\n",
      "|    1|   1|19/02/2010|    41595.55|    false|\n",
      "|    1|   1|26/02/2010|    19403.54|    false|\n",
      "|    1|   1|05/03/2010|     21827.9|    false|\n",
      "+-----+----+----------+------------+---------+\n",
      "\n",
      "+-----+----+------+\n",
      "|Store|Type|  Size|\n",
      "+-----+----+------+\n",
      "|    1|   A|151315|\n",
      "|    2|   A|202307|\n",
      "|    3|   B| 37392|\n",
      "|    4|   A|205863|\n",
      "|    5|   B| 34875|\n",
      "+-----+----+------+\n",
      "\n"
     ]
    }
   ],
   "source": [
    "# Verify Features data\n",
    "spark.sql(\"SELECT * FROM delta.`hdfs://namenode:8020/user/hive/warehouse/retail0A/bronze/features` LIMIT 5\").show()\n",
    "\n",
    "# Verify Sales data\n",
    "spark.sql(\"SELECT * FROM delta.`hdfs://namenode:8020/user/hive/warehouse/retail0A/bronze/sales` LIMIT 5\").show()\n",
    "\n",
    "# Verify Stores data\n",
    "spark.sql(\"SELECT * FROM delta.`hdfs://namenode:8020/user/hive/warehouse/retail0A/bronze/stores` LIMIT 5\").show()"
   ]
  },
  {
   "cell_type": "code",
   "execution_count": 5,
   "metadata": {},
   "outputs": [],
   "source": [
    "spark.stop()"
   ]
  }
 ],
 "metadata": {
  "kernelspec": {
   "display_name": ".venv",
   "language": "python",
   "name": "python3"
  },
  "language_info": {
   "codemirror_mode": {
    "name": "ipython",
    "version": 3
   },
   "file_extension": ".py",
   "mimetype": "text/x-python",
   "name": "python",
   "nbconvert_exporter": "python",
   "pygments_lexer": "ipython3",
   "version": "3.11.9"
  }
 },
 "nbformat": 4,
 "nbformat_minor": 2
}
