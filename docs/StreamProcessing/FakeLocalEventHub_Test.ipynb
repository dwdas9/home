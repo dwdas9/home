{
 "cells": [
  {
   "cell_type": "markdown",
   "id": "b79af9a9",
   "metadata": {},
   "source": [
    "# Event Hub End-to-End Example in Jupyter Notebook"
   ]
  },
  {
   "cell_type": "markdown",
   "id": "9d760d7e",
   "metadata": {},
   "source": [
    "Use this notebook to test the Fake Event Hubs setup that we created. This is  an end-to-end example of sending events to an Event Hub, consuming those events, and storing them in an SQLite database."
   ]
  },
  {
   "cell_type": "markdown",
   "id": "d2f63c04",
   "metadata": {},
   "source": [
    "## Step 0: Install Required Libraries"
   ]
  },
  {
   "cell_type": "code",
   "execution_count": null,
   "id": "ef515753",
   "metadata": {},
   "outputs": [],
   "source": [
    "!pip install azure-eventhub"
   ]
  },
  {
   "cell_type": "markdown",
   "id": "7bcf41f8",
   "metadata": {},
   "source": [
    "## Step 1: Import Required Libraries"
   ]
  },
  {
   "cell_type": "code",
   "execution_count": null,
   "id": "884647e9",
   "metadata": {},
   "outputs": [],
   "source": [
    "from azure.eventhub import EventHubProducerClient, EventData, EventHubConsumerClient\n",
    "import sqlite3"
   ]
  },
  {
   "cell_type": "markdown",
   "id": "63f63ee3",
   "metadata": {},
   "source": [
    "We import the required libraries. `azure.eventhub` is used to send and receive events, and `sqlite3` is used to store the events in a database."
   ]
  },
  {
   "cell_type": "markdown",
   "id": "488193b4",
   "metadata": {},
   "source": [
    "## Step 2: Setup SQLite Database"
   ]
  },
  {
   "cell_type": "code",
   "execution_count": null,
   "id": "a6828477",
   "metadata": {},
   "outputs": [],
   "source": [
    "# Create an in-memory SQLite database\n",
    "conn = sqlite3.connect(':memory:')\n",
    "cursor = conn.cursor()\n",
    "\n",
    "# Create a table to store events\n",
    "cursor.execute('''\n",
    "    CREATE TABLE IF NOT EXISTS events (\n",
    "        id INTEGER PRIMARY KEY AUTOINCREMENT,\n",
    "        event_data TEXT\n",
    "    )\n",
    "''')\n",
    "\n",
    "conn.commit()"
   ]
  },
  {
   "cell_type": "markdown",
   "id": "fabdba6b",
   "metadata": {},
   "source": [
    "In this step, we create an in-memory SQLite database and a table to store the events. This table will have two columns: an `id` and the `event_data`."
   ]
  },
  {
   "cell_type": "markdown",
   "id": "d60cb6e8",
   "metadata": {},
   "source": [
    "## Step 3: Send Events to Event Hub"
   ]
  },
  {
   "cell_type": "code",
   "execution_count": null,
   "id": "28d49ccd",
   "metadata": {},
   "outputs": [],
   "source": [
    "# Connection string and Event Hub details\n",
    "connection_str = \"Endpoint=sb://localhost;SharedAccessKeyName=RootManageSharedAccessKey;SharedAccessKey=SAS_KEY_VALUE;UseDevelopmentEmulator=true;\"\n",
    "eventhub_name = \"eh1\"\n",
    "\n",
    "# Create a producer client to send events\n",
    "producer = EventHubProducerClient.from_connection_string(conn_str=connection_str, eventhub_name=eventhub_name)\n",
    "\n",
    "# Create a batch and add events\n",
    "event_data_batch = producer.create_batch()\n",
    "event_data_batch.add(EventData('EventOne'))\n",
    "event_data_batch.add(EventData('EventTwo'))\n",
    "\n",
    "# Send the batch of events to the Event Hub\n",
    "producer.send_batch(event_data_batch)\n",
    "\n",
    "print(\"Events sent.\")"
   ]
  },
  {
   "cell_type": "markdown",
   "id": "ff55ea78",
   "metadata": {},
   "source": [
    "In this step, we create a producer client to connect to the Event Hub. We then create a batch of events and send them to the Event Hub using the producer client."
   ]
  },
  {
   "cell_type": "markdown",
   "id": "a0d70185",
   "metadata": {},
   "source": [
    "## Step 4: Consume Events from Event Hub and Store in Database"
   ]
  },
  {
   "cell_type": "code",
   "execution_count": null,
   "id": "c25d4bdf",
   "metadata": {},
   "outputs": [],
   "source": [
    "# Function to store events in the database\n",
    "def store_event_in_db(cursor, event_data):\n",
    "    cursor.execute(\"INSERT INTO events (event_data) VALUES (?)\", (event_data,))\n",
    "    conn.commit()\n",
    "    print(f\"Stored event: {event_data}\")\n",
    "\n",
    "# Event Hub consumer setup\n",
    "def consume_events_from_eventhub():\n",
    "    consumer = EventHubConsumerClient.from_connection_string(\n",
    "        conn_str=connection_str,\n",
    "        consumer_group=\"$default\",\n",
    "        eventhub_name=eventhub_name\n",
    "    )\n",
    "\n",
    "    def on_event(partition_context, event):\n",
    "        event_data = event.body_as_str()\n",
    "        store_event_in_db(cursor, event_data)\n",
    "        partition_context.update_checkpoint(event)\n",
    "\n",
    "    with consumer:\n",
    "        consumer.receive(\n",
    "            on_event=on_event,\n",
    "            starting_position=\"-1\"  # Start from the beginning of the partition\n",
    "        )\n",
    "\n",
    "consume_events_from_eventhub()"
   ]
  },
  {
   "cell_type": "markdown",
   "id": "52c9f47c",
   "metadata": {},
   "source": [
    "This step involves creating a consumer that reads events from the Event Hub. Each event is stored in the SQLite database using the `store_event_in_db` function."
   ]
  },
  {
   "cell_type": "markdown",
   "id": "e3107176",
   "metadata": {},
   "source": [
    "## Step 5: Query the Stored Events"
   ]
  },
  {
   "cell_type": "code",
   "execution_count": null,
   "id": "e15045c2",
   "metadata": {},
   "outputs": [],
   "source": [
    "# Query and display stored events\n",
    "cursor.execute(\"SELECT * FROM events\")\n",
    "rows = cursor.fetchall()\n",
    "\n",
    "for row in rows:\n",
    "    print(row)"
   ]
  },
  {
   "cell_type": "markdown",
   "id": "b2652041",
   "metadata": {},
   "source": [
    "Finally, we query the SQLite database to show the events that have been stored."
   ]
  }
 ],
 "metadata": {
  "language_info": {
   "name": "python"
  }
 },
 "nbformat": 4,
 "nbformat_minor": 5
}
